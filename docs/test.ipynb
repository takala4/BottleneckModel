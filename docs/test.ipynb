{
 "cells": [
  {
   "cell_type": "markdown",
   "metadata": {},
   "source": [
    "# Sample of DUE problem"
   ]
  },
  {
   "cell_type": "markdown",
   "metadata": {},
   "source": [
    "## Import modules"
   ]
  },
  {
   "cell_type": "code",
   "execution_count": 1,
   "metadata": {},
   "outputs": [],
   "source": [
    "import numpy as np\n",
    "import pandas as pd\n",
    "\n",
    "import BottleneckModel as bnm \n",
    "\n",
    "import importlib\n",
    "importlib.reload(bnm)\n",
    "\n",
    "import cvxpy as cp\n",
    "\n",
    "import matplotlib.pyplot as plt\n",
    "%matplotlib inline"
   ]
  },
  {
   "cell_type": "markdown",
   "metadata": {},
   "source": [
    "## Set paramerters"
   ]
  },
  {
   "cell_type": "code",
   "execution_count": 2,
   "metadata": {},
   "outputs": [],
   "source": [
    "# Set paramerters\n",
    "\n",
    "# Number of groups\n",
    "K = 3\n",
    "\n",
    "# Total OD demand\n",
    "Q = np.array([200, 200, 200])\n",
    "\n",
    "# Bottleneck Capacity\n",
    "mu = 10\n",
    "\n",
    "# Time window\n",
    "T = 100\n",
    "\n",
    "# Delta t which is step width\n",
    "dt = 1\n",
    "\n",
    "# Create schedule delay function\n",
    "# Desired departure time \n",
    "d1 = 60\n",
    "f1 = np.array([abs(d1-i*dt)**2*0.02 for i in range(T)], dtype=float)\n",
    "f1[:int(d1*(1/dt)):] = f1[:int(d1*(1/dt)):]*0.2 # early arrival\n",
    "f1[int(d1*(1/dt))::] = f1[int(d1*(1/dt))::]*0.4 # late arrival\n",
    "\n",
    "\n",
    "# Desired departure time \n",
    "d2 =40\n",
    "f2 = np.array([abs(d2-i*dt)**2*0.02 for i in range(T)], dtype=float)\n",
    "f2[:int(d2*(1/dt)):] = f2[:int(d2*(1/dt)):]*0.2 # early arrival\n",
    "f2[int(d2*(1/dt))::] = f2[int(d2*(1/dt))::]*0.4 # late arrival\n",
    "\n",
    "\n",
    "# Create schedule delay matrix\n",
    "s = np.block([[f1],[f1*1.1],[f2]]).T"
   ]
  },
  {
   "cell_type": "markdown",
   "metadata": {},
   "source": [
    "## Check shape of schedule delay function"
   ]
  },
  {
   "cell_type": "code",
   "execution_count": 3,
   "metadata": {},
   "outputs": [
    {
     "data": {
      "text/plain": [
       "<matplotlib.legend.Legend at 0x17528fdf820>"
      ]
     },
     "execution_count": 3,
     "metadata": {},
     "output_type": "execute_result"
    },
    {
     "data": {
      "image/png": "[encoded data removed]",
      "text/plain": [
       "<Figure size 432x288 with 1 Axes>"
      ]
     },
     "metadata": {
      "needs_background": "light"
     },
     "output_type": "display_data"
    }
   ],
   "source": [
    "plt.plot(s[:,0], label='Group-1')\n",
    "plt.plot(s[:,1], label='Group-2')\n",
    "plt.plot(s[:,2], label='Group-3')\n",
    "plt.legend()"
   ]
  },
  {
   "cell_type": "markdown",
   "metadata": {},
   "source": [
    "## Available solver for cvxpy\n",
    "\n",
    "It is recommended to use GUROBI. If the below does not have GUROBI, please install the Gurobi Python interface as described [here](https://www.gurobi.com/documentation/9.0/quickstart_mac/py_building_and_running_th.html#subsection:pythonrun) first."
   ]
  },
  {
   "cell_type": "code",
   "execution_count": 4,
   "metadata": {},
   "outputs": [
    {
     "data": {
      "text/plain": [
       "['CVXOPT', 'ECOS', 'GLPK', 'GLPK_MI', 'GUROBI', 'OSQP', 'SCS']"
      ]
     },
     "execution_count": 4,
     "metadata": {},
     "output_type": "execute_result"
    }
   ],
   "source": [
    "cp.installed_solvers()"
   ]
  },
  {
   "cell_type": "markdown",
   "metadata": {},
   "source": [
    "## Create model and solve problem"
   ]
  },
  {
   "cell_type": "code",
   "execution_count": 5,
   "metadata": {},
   "outputs": [],
   "source": [
    "prm = bnm.parameter(K, Q, T, s, mu)\n",
    "DUE_m = bnm.DUE_model(prm)"
   ]
  },
  {
   "cell_type": "code",
   "execution_count": 6,
   "metadata": {},
   "outputs": [
    {
     "name": "stdout",
     "output_type": "stream",
     "text": [
      "Academic license - for non-commercial use only - expires 2021-03-01\n",
      "Using license file C:\\Users\\TAKALA\\gurobi.lic\n"
     ]
    }
   ],
   "source": [
    "DUE_m.solve()\n",
    "sol = DUE_m.solution"
   ]
  },
  {
   "cell_type": "code",
   "execution_count": 7,
   "metadata": {},
   "outputs": [
    {
     "data": {
      "text/plain": [
       "{'q': array([ 0.,  0.,  0.,  0.,  0.,  0.,  0.,  0.,  0.,  0.,  0.,  0.,  0.,\n",
       "         0.,  0.,  0.,  0.,  0.,  0.,  0.,  0.,  0.,  0.,  0.,  0.,  0.,\n",
       "         0.,  0.,  0.,  0.,  0.,  0.,  0.,  0.,  0.,  0.,  0.,  0.,  0.,\n",
       "         0.,  0.,  0.,  0.,  0.,  0.,  0.,  0.,  0.,  0.,  0.,  0.,  0.,\n",
       "         0.,  0.,  0.,  0.,  0.,  0.,  0.,  0.,  0.,  0., 10.,  0.,  0.,\n",
       "        10.,  0.,  0., 10.,  0.,  0., 10.,  0.,  0., 10.,  0.,  0., 10.,\n",
       "         0.,  0., 10.,  0.,  0., 10.,  0.,  0., 10.,  0.,  0., 10.,  0.,\n",
       "         0., 10.,  0.,  0., 10.,  0.,  0., 10.,  0.,  0., 10.,  0.,  0.,\n",
       "        10.,  0.,  0., 10.,  0.,  0., 10.,  0.,  0., 10.,  0.,  0., 10.,\n",
       "         0.,  0., 10., 10.,  0.,  0., 10.,  0.,  0., 10.,  0.,  0., 10.,\n",
       "         0.,  0., 10.,  0.,  0., 10.,  0.,  0., 10.,  0.,  0., 10.,  0.,\n",
       "         0., 10.,  0.,  0.,  0., 10.,  0.,  0., 10.,  0.,  0., 10.,  0.,\n",
       "         0., 10.,  0.,  0., 10.,  0.,  0., 10.,  0.,  0., 10.,  0.,  0.,\n",
       "        10.,  0.,  0., 10.,  0.,  0., 10.,  0.,  0., 10.,  0.,  0., 10.,\n",
       "         0.,  0., 10.,  0.,  0., 10.,  0.,  0., 10.,  0.,  0., 10.,  0.,\n",
       "         0., 10.,  0.,  0., 10.,  0.,  0., 10.,  0.,  0., 10.,  0., 10.,\n",
       "         0.,  0., 10.,  0.,  0., 10.,  0.,  0., 10.,  0.,  0., 10.,  0.,\n",
       "         0., 10.,  0.,  0., 10.,  0.,  0., 10.,  0.,  0., 10.,  0.,  0.,\n",
       "        10.,  0.,  0., 10.,  0.,  0.,  0.,  0.,  0.,  0.,  0.,  0.,  0.,\n",
       "         0.,  0.,  0.,  0.,  0.,  0.,  0.,  0.,  0.,  0.,  0.,  0.,  0.,\n",
       "         0.,  0.,  0.,  0.,  0.,  0.,  0.,  0.,  0.,  0.,  0.,  0.,  0.,\n",
       "         0.,  0.,  0.,  0.,  0.,  0.,  0.,  0.,  0.,  0.,  0.,  0.,  0.,\n",
       "         0.,  0.,  0.,  0.,  0.,  0.,  0.,  0.,  0.,  0.,  0.,  0.,  0.,\n",
       "         0.]),\n",
       " 'w': array([0.    , 0.    , 0.    , 0.    , 0.    , 0.    , 0.    , 0.    ,\n",
       "        0.    , 0.    , 0.    , 0.    , 0.    , 0.    , 0.    , 0.    ,\n",
       "        0.    , 0.    , 0.    , 0.    , 0.    , 0.156 , 0.304 , 0.444 ,\n",
       "        0.576 , 0.7   , 0.816 , 0.924 , 1.024 , 1.116 , 1.2   , 1.276 ,\n",
       "        1.344 , 1.404 , 1.456 , 1.5   , 1.536 , 1.564 , 1.584 , 1.596 ,\n",
       "        1.6   , 1.756 , 1.904 , 2.044 , 2.176 , 2.3   , 2.416 , 2.524 ,\n",
       "        2.624 , 2.7188, 2.8112, 2.8948, 2.9696, 3.0356, 3.0928, 3.1412,\n",
       "        3.1808, 3.2116, 3.2336, 3.2468, 3.2512, 3.2424, 3.216 , 3.172 ,\n",
       "        3.1104, 3.0312, 2.9344, 2.82  , 2.688 , 2.552 , 2.4   , 2.232 ,\n",
       "        2.048 , 1.848 , 1.632 , 1.4   , 1.152 , 0.888 , 0.608 , 0.312 ,\n",
       "        0.    , 0.    , 0.    , 0.    , 0.    , 0.    , 0.    , 0.    ,\n",
       "        0.    , 0.    , 0.    , 0.    , 0.    , 0.    , 0.    , 0.    ,\n",
       "        0.    , 0.    , 0.    , 0.    ]),\n",
       " 'rho': array([3.2   , 3.2512, 1.6   ])}"
      ]
     },
     "execution_count": 7,
     "metadata": {},
     "output_type": "execute_result"
    }
   ],
   "source": [
    "sol"
   ]
  },
  {
   "cell_type": "markdown",
   "metadata": {},
   "source": [
    "## Plot figure"
   ]
  },
  {
   "cell_type": "markdown",
   "metadata": {},
   "source": [
    "### Flow pattern"
   ]
  },
  {
   "cell_type": "code",
   "execution_count": 8,
   "metadata": {},
   "outputs": [
    {
     "data": {
      "text/plain": [
       "Text(0.5, 1.0, 'DUE arrival flow pattern')"
      ]
     },
     "execution_count": 8,
     "metadata": {},
     "output_type": "execute_result"
    },
    {
     "data": {
      "image/png": "[encoded data removed]",
      "text/plain": [
       "<Figure size 432x288 with 1 Axes>"
      ]
     },
     "metadata": {
      "needs_background": "light"
     },
     "output_type": "display_data"
    }
   ],
   "source": [
    "btm = np.zeros(prm.T)\n",
    "for OD in range(prm.K):\n",
    "    plt.bar(range(prm.T), sol['q'][OD::prm.K], bottom=btm, width=1, label='Group-%i'%(OD+1))\n",
    "    btm = btm + sol['q'][OD::prm.K]\n",
    "\n",
    "plt.legend()\n",
    "plt.title('DUE arrival flow pattern')"
   ]
  },
  {
   "cell_type": "markdown",
   "metadata": {},
   "source": [
    "### Cost pattern"
   ]
  },
  {
   "cell_type": "code",
   "execution_count": 9,
   "metadata": {},
   "outputs": [
    {
     "data": {
      "text/plain": [
       "Text(0.5, 1.0, 'DUE cost pattern')"
      ]
     },
     "execution_count": 9,
     "metadata": {},
     "output_type": "execute_result"
    },
    {
     "data": {
      "image/png": "[encoded data removed]",
      "text/plain": [
       "<Figure size 432x288 with 1 Axes>"
      ]
     },
     "metadata": {
      "needs_background": "light"
     },
     "output_type": "display_data"
    }
   ],
   "source": [
    "for OD in range(prm.K):\n",
    "    tmp_rho = sol['rho'][OD]\n",
    "    plt.plot([0,prm.T], [tmp_rho, tmp_rho], label='Group-%i'%(OD+1))\n",
    "    \n",
    "\n",
    "plt.plot(sol['w'], color='black', label='Waiting cost ')\n",
    "\n",
    "plt.legend()\n",
    "plt.title('DUE cost pattern')"
   ]
  },
  {
   "cell_type": "markdown",
   "metadata": {},
   "source": [
    "### Cumulative flow"
   ]
  },
  {
   "cell_type": "code",
   "execution_count": 10,
   "metadata": {},
   "outputs": [],
   "source": [
    "cumsum = np.zeros(prm.T)\n",
    "for OD in range(prm.K):\n",
    "    cumsum = cumsum + sol['q'][OD::prm.K]\n",
    "\n",
    "curve = cumsum.cumsum()"
   ]
  },
  {
   "cell_type": "code",
   "execution_count": 11,
   "metadata": {},
   "outputs": [
    {
     "data": {
      "text/plain": [
       "Text(0.5, 1.0, 'Cumulative flow')"
      ]
     },
     "execution_count": 11,
     "metadata": {},
     "output_type": "execute_result"
    },
    {
     "data": {
      "image/png": "[encoded data removed]",
      "text/plain": [
       "<Figure size 432x288 with 1 Axes>"
      ]
     },
     "metadata": {
      "needs_background": "light"
     },
     "output_type": "display_data"
    }
   ],
   "source": [
    "Time_List = np.linspace(0,prm.T-1,prm.T)\n",
    "plt.plot(Time_List, curve, label='Arrival curve')\n",
    "plt.plot(Time_List-sol['w'], curve, label='Departure curve')\n",
    "\n",
    "\n",
    "plt.legend()\n",
    "plt.title('Cumulative flow')"
   ]
  }
 ],
 "metadata": {
  "kernelspec": {
   "display_name": "Python 3",
   "language": "python",
   "name": "python3"
  },
  "language_info": {
   "codemirror_mode": {
    "name": "ipython",
    "version": 3
   },
   "file_extension": ".py",
   "mimetype": "text/x-python",
   "name": "python",
   "nbconvert_exporter": "python",
   "pygments_lexer": "ipython3",
   "version": "3.8.3"
  }
 },
 "nbformat": 4,
 "nbformat_minor": 4
}
